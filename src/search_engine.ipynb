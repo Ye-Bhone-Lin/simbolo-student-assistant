{
 "cells": [
  {
   "cell_type": "code",
   "execution_count": 1,
   "id": "b3152b62",
   "metadata": {},
   "outputs": [
    {
     "data": {
      "text/plain": [
       "True"
      ]
     },
     "execution_count": 1,
     "metadata": {},
     "output_type": "execute_result"
    }
   ],
   "source": [
    "from elasticsearch import Elasticsearch\n",
    "from dotenv import load_dotenv\n",
    "import os \n",
    "\n",
    "load_dotenv()"
   ]
  },
  {
   "cell_type": "code",
   "execution_count": 2,
   "id": "da8fe454",
   "metadata": {},
   "outputs": [],
   "source": [
    "os.chdir(\"D:\\\\elasticsearch_chatbot\")"
   ]
  },
  {
   "cell_type": "code",
   "execution_count": 3,
   "id": "a8c3321f",
   "metadata": {},
   "outputs": [],
   "source": [
    "from elasticsearch import Elasticsearch, helpers\n",
    "\n",
    "client = Elasticsearch(\n",
    "    \"https://608291f321b44714a3d68daf7c09ca10.us-central1.gcp.cloud.es.io:443\",\n",
    "    api_key=os.getenv(\"ELASTIC_SEARCH_API_KEY\")\n",
    ")"
   ]
  },
  {
   "cell_type": "code",
   "execution_count": 4,
   "id": "b2aeb12f",
   "metadata": {},
   "outputs": [
    {
     "name": "stdout",
     "output_type": "stream",
     "text": [
      "Connected to the ElasticSearch\n"
     ]
    }
   ],
   "source": [
    "if client.ping():\n",
    "    print(\"Connected to the ElasticSearch\")\n",
    "else:\n",
    "    print(\"You haven't connected to ElasticSearch\")"
   ]
  },
  {
   "cell_type": "code",
   "execution_count": 5,
   "id": "d58a21ec",
   "metadata": {},
   "outputs": [
    {
     "name": "stdout",
     "output_type": "stream",
     "text": [
      "(34, [])\n"
     ]
    }
   ],
   "source": [
    "import json \n",
    "\n",
    "index_name = \"search-simbolo\"\n",
    "\n",
    "with open(\"Simbolo_Information.json\", \"rt\") as file:\n",
    "    simbolo_file = json.load(file)\n",
    "    #print(simbolo_file)\n",
    "    \n",
    "    bulk_response = helpers.bulk(client, simbolo_file, index=index_name)\n",
    "    print(bulk_response)"
   ]
  },
  {
   "cell_type": "code",
   "execution_count": 6,
   "id": "d642d5c4",
   "metadata": {},
   "outputs": [
    {
     "data": {
      "text/plain": [
       "ObjectApiResponse({'count': 62, '_shards': {'total': 1, 'successful': 1, 'skipped': 0, 'failed': 0}})"
      ]
     },
     "execution_count": 6,
     "metadata": {},
     "output_type": "execute_result"
    }
   ],
   "source": [
    "user_input = \"Who is the founder of Simbolo\"\n",
    "\n",
    "query = {\n",
    "    \"query\": {\n",
    "        \"match\": {\n",
    "            \"Questions\": user_input\n",
    "        },\n",
    "    }\n",
    "}\n",
    "\n",
    "client.count(index=index_name, body=query)"
   ]
  },
  {
   "cell_type": "code",
   "execution_count": 7,
   "id": "91d9200f",
   "metadata": {},
   "outputs": [
    {
     "name": "stdout",
     "output_type": "stream",
     "text": [
      "{'Questions': 'How did the Founder Phyo Thu Htet die?', 'Answers': 'Because of the earthquake that was happened in March 29.'}\n",
      "{'Questions': 'How did the Founder Phyo Thu Htet die?', 'Answers': 'Because of the earthquake that was happened in March 29.'}\n",
      "{'Questions': 'How did the Founder Phyo Thu Htet die?', 'Answers': 'Because of the earthquake that was happened in March 29.'}\n",
      "{'Questions': 'What is the location of Simbolo?', 'Answers': 'Simbolo is located at 91H*42H, Mahar Aung Myay, Mandalay. Let me know if you need directions!'}\n",
      "{'Questions': 'What is the location of Simbolo?', 'Answers': 'Simbolo is located at 91H*42H, Mahar Aung Myay, Mandalay. Let me know if you need directions!'}\n",
      "{'Questions': 'What is the location of Simbolo?', 'Answers': 'Simbolo is located at 91H*42H, Mahar Aung Myay, Mandalay. Let me know if you need directions!'}\n",
      "{'Questions': 'What is Simbolo?', 'Answers': 'Símbolo is a training school which provides high-quality education in science and technology by offering courses in Artificial Intelligence, Data Science, Web Development, Mobile Development, and Information Technology. These courses combine theoretical knowledge with practical, project-based learning.'}\n",
      "{'Questions': 'What is Simbolo?', 'Answers': 'Símbolo is a training school which provides high-quality education in science and technology by offering courses in Artificial Intelligence, Data Science, Web Development, Mobile Development, and Information Technology. These courses combine theoretical knowledge with practical, project-based learning.'}\n",
      "{'Questions': 'What is Simbolo?', 'Answers': 'Símbolo is a training school which provides high-quality education in science and technology by offering courses in Artificial Intelligence, Data Science, Web Development, Mobile Development, and Information Technology. These courses combine theoretical knowledge with practical, project-based learning.'}\n",
      "{'Questions': 'What are the benefits that only students of Simbolo can enjoy?', 'Answers': 'Membership Card, Jump Start Internship Program, Letter of Recommendation, Competition Mentorship, Pocket Money Program for Symbols'}\n",
      "{'Questions': 'What are the benefits that only students of Simbolo can enjoy?', 'Answers': 'Membership Card, Jump Start Internship Program, Letter of Recommendation, Competition Mentorship, Pocket Money Program for Symbols'}\n",
      "{'Questions': 'What are the benefits that only students of Simbolo can enjoy?', 'Answers': 'Membership Card, Jump Start Internship Program, Letter of Recommendation, Competition Mentorship, Pocket Money Program for Symbols'}\n",
      "{'Questions': 'Where can we contact the Simbolo?', 'Answers': 'You can contact Simbolo in the following ways:\\nEmail: simboloit@gmail.com\\nPhone: +959951716847\\nMessenger: https://m.me/Simboloit'}\n",
      "{'Questions': 'Where can we contact the Simbolo?', 'Answers': 'You can contact Simbolo in the following ways:\\nEmail: simboloit@gmail.com\\nPhone: +959951716847\\nMessenger: https://m.me/Simboloit'}\n",
      "{'Questions': 'Where can we contact the Simbolo?', 'Answers': 'You can contact Simbolo in the following ways:\\nEmail: simboloit@gmail.com\\nPhone: +959951716847\\nMessenger: https://m.me/Simboloit'}\n",
      "{'Questions': 'What is the course outline of Python?', 'Answers': 'Here is the course outline of Python class:\\n- Introduction to Python Language\\n- Values and Variables\\n- Expressions and Arithmetic\\n- Conditional Execution\\n- Iteration Loops\\n- Function\\n- Libraries\\n- Data Structures\\n- File Handling\\n- Regular Expression\\n- Object Oriented Programming (OOP)'}\n",
      "{'Questions': 'What is the course outline of UXUI?', 'Answers': 'Here is the course outline of UXUI class:\\nUX\\n- Introduction to UX UI design\\n- Product development life cycle\\n- Design thinking process\\n- Designer roles and responsibilities \\n- UX design principle\\n- UX research methodologies\\n- User persona \\n- Information Architecture\\n\\nUI\\n- Get in touch with design tools\\n- Brain storming in figjam and miro\\n- UI design principles\\n- Wireframing in Figma \\n- Create components and interaction components\\n- Create local library for effective design\\n- Highfidelity Design (Mobile and Web)\\n- Iterating and Usability Testing\\n\\nFinal project and Design presentation included.'}\n",
      "{'Questions': 'What is the course outline of Python?', 'Answers': 'Here is the course outline of Python class:\\n- Introduction to Python Language\\n- Values and Variables\\n- Expressions and Arithmetic\\n- Conditional Execution\\n- Iteration Loops\\n- Function\\n- Libraries\\n- Data Structures\\n- File Handling\\n- Regular Expression\\n- Object Oriented Programming (OOP)'}\n",
      "{'Questions': 'What is the course outline of UXUI?', 'Answers': 'Here is the course outline of UXUI class:\\nUX\\n- Introduction to UX UI design\\n- Product development life cycle\\n- Design thinking process\\n- Designer roles and responsibilities \\n- UX design principle\\n- UX research methodologies\\n- User persona \\n- Information Architecture\\n\\nUI\\n- Get in touch with design tools\\n- Brain storming in figjam and miro\\n- UI design principles\\n- Wireframing in Figma \\n- Create components and interaction components\\n- Create local library for effective design\\n- Highfidelity Design (Mobile and Web)\\n- Iterating and Usability Testing\\n\\nFinal project and Design presentation included.'}\n",
      "{'Questions': 'What is the course outline of Python?', 'Answers': 'Here is the course outline of Python class:\\n- Introduction to Python Language\\n- Values and Variables\\n- Expressions and Arithmetic\\n- Conditional Execution\\n- Iteration Loops\\n- Function\\n- Libraries\\n- Data Structures\\n- File Handling\\n- Regular Expression\\n- Object Oriented Programming (OOP)'}\n",
      "{'Questions': 'What is the course outline of UXUI?', 'Answers': 'Here is the course outline of UXUI class:\\nUX\\n- Introduction to UX UI design\\n- Product development life cycle\\n- Design thinking process\\n- Designer roles and responsibilities \\n- UX design principle\\n- UX research methodologies\\n- User persona \\n- Information Architecture\\n\\nUI\\n- Get in touch with design tools\\n- Brain storming in figjam and miro\\n- UI design principles\\n- Wireframing in Figma \\n- Create components and interaction components\\n- Create local library for effective design\\n- Highfidelity Design (Mobile and Web)\\n- Iterating and Usability Testing\\n\\nFinal project and Design presentation included.'}\n",
      "{'Questions': 'What is the course outline of React JS?', 'Answers': 'Here is the course outline for React JS:\\n- Introduction to React\\n- React Components and props\\n- React Hooks\\n- API Calling with Axios in React \\n- Custom Hook\\n- React router dom\\n- Useful and Popolar UI Libraries for React \\n- Form handling with react hook form\\n- Redux \\n- React-redux'}\n",
      "{'Questions': 'What is the course outline of Java Script?', 'Answers': 'Here is the course outline for Java Script: \\n1. Introduction to JavaScript \\n-Course Overview and Setup\\n-JavaScript Basics\\n-Data Types and Variables\\n2. Control Structures and Functions\\n3. Objects and Arrays\\n4. Advanced JavaScript Concepts\\n-Asynchronous JavaScript\\n-Error Handling\\n\\n5. Working with the DOM\\n-Document Object Model (DOM)\\n-Event Handling\\n\\n6. Browser APIs and AJAX\\n\\n7. Modern JavaScript and ES6\\n-ES6 Features\\n'}\n",
      "{'Questions': 'What is the course outline of React JS?', 'Answers': 'Here is the course outline for React JS:\\n- Introduction to React\\n- React Components and props\\n- React Hooks\\n- API Calling with Axios in React \\n- Custom Hook\\n- React router dom\\n- Useful and Popolar UI Libraries for React \\n- Form handling with react hook form\\n- Redux \\n- React-redux'}\n",
      "{'Questions': 'What is the course outline of Java Script?', 'Answers': 'Here is the course outline for Java Script: \\n1. Introduction to JavaScript \\n-Course Overview and Setup\\n-JavaScript Basics\\n-Data Types and Variables\\n2. Control Structures and Functions\\n3. Objects and Arrays\\n4. Advanced JavaScript Concepts\\n-Asynchronous JavaScript\\n-Error Handling\\n\\n5. Working with the DOM\\n-Document Object Model (DOM)\\n-Event Handling\\n\\n6. Browser APIs and AJAX\\n\\n7. Modern JavaScript and ES6\\n-ES6 Features\\n'}\n",
      "{'Questions': 'What is the course outline of React JS?', 'Answers': 'Here is the course outline for React JS:\\n- Introduction to React\\n- React Components and props\\n- React Hooks\\n- API Calling with Axios in React \\n- Custom Hook\\n- React router dom\\n- Useful and Popolar UI Libraries for React \\n- Form handling with react hook form\\n- Redux \\n- React-redux'}\n",
      "{'Questions': 'What is the course outline of Java Script?', 'Answers': 'Here is the course outline for Java Script: \\n1. Introduction to JavaScript \\n-Course Overview and Setup\\n-JavaScript Basics\\n-Data Types and Variables\\n2. Control Structures and Functions\\n3. Objects and Arrays\\n4. Advanced JavaScript Concepts\\n-Asynchronous JavaScript\\n-Error Handling\\n\\n5. Working with the DOM\\n-Document Object Model (DOM)\\n-Event Handling\\n\\n6. Browser APIs and AJAX\\n\\n7. Modern JavaScript and ES6\\n-ES6 Features\\n'}\n",
      "{'Questions': 'When was Simbolo founded?', 'Answers': 'Símbolo was founded in 6th May, 2021.'}\n",
      "{'Questions': 'What does Simbolo mean?', 'Answers': 'Símbolo is pronounced in Spanish which means symbol.'}\n",
      "{'Questions': 'When was Simbolo founded?', 'Answers': 'Símbolo was founded in 6th May, 2021.'}\n",
      "{'Questions': 'What does Simbolo mean?', 'Answers': 'Símbolo is pronounced in Spanish which means symbol.'}\n",
      "{'Questions': 'When was Simbolo founded?', 'Answers': 'Símbolo was founded in 6th May, 2021.'}\n",
      "{'Questions': 'What does Simbolo mean?', 'Answers': 'Símbolo is pronounced in Spanish which means symbol.'}\n",
      "{'Questions': 'What is the course outline of Oracle Database Foundation?', 'Answers': 'Here is the course outline of Oracle Database Foundation class:\\n- Introduction \\n- Database Management Fundamental\\n- Oracle Database Architecture\\n- Oracle Database Features\\n- Oracle Relational Database Structure\\n- Step by step Oracle database development\\n- Oracle SQL\\n- PL/SQL with Oracle SQL Developer\\n- Package\\n- Managing the Oracle Database Instance\\n- Reporting'}\n",
      "{'Questions': 'What is the course outline of Applied Machine Learning?', 'Answers': 'Here is the course outline of Applied Machine Learning class:\\n- Introduction to Machine Learning\\n- Pre-requisites and Introduction to Pandas\\n- Linear Regression\\n- Logistic Regression\\n- Decision Tree and Random Forest\\n- Naive Bayes and Support Vector Machine\\n- Regularization and Evaluation Metrics\\n- K-Means Algorithm and Dimensionality Reduction\\n- Introduction to Deep Learning'}\n"
     ]
    }
   ],
   "source": [
    "response = client.search(index=index_name, body=query, size=35)\n",
    "results = response[\"hits\"][\"hits\"]\n",
    "# Print the documents\n",
    "template_for_prompt = []\n",
    "for result in results: \n",
    "    print(result[\"_source\"])\n",
    "    template_for_prompt.append(result['_source'])\n",
    "#print(len(results))"
   ]
  },
  {
   "cell_type": "code",
   "execution_count": 8,
   "id": "278d0d33",
   "metadata": {},
   "outputs": [
    {
     "data": {
      "text/plain": [
       "'\\nYou are a helpful assistant trained to answer questions about Simbolo, a training school.\\n\\nYou have access to the following knowledge base of Questions and Answers:\\n\\nHow did the Founder Phyo Thu Htet die?\\nHow did the Founder Phyo Thu Htet die?\\nHow did the Founder Phyo Thu Htet die?\\nWhat is the location of Simbolo?\\nWhat is the location of Simbolo?\\nWhat is the location of Simbolo?\\nWhat is Simbolo?\\nWhat is Simbolo?\\nWhat is Simbolo?\\nWhat are the benefits that only students of Simbolo can enjoy?\\nWhat are the benefits that only students of Simbolo can enjoy?\\nWhat are the benefits that only students of Simbolo can enjoy?\\nWhere can we contact the Simbolo?\\nWhere can we contact the Simbolo?\\nWhere can we contact the Simbolo?\\nWhat is the course outline of Python?\\nWhat is the course outline of UXUI?\\nWhat is the course outline of Python?\\nWhat is the course outline of UXUI?\\nWhat is the course outline of Python?\\nWhat is the course outline of UXUI?\\nWhat is the course outline of React JS?\\nWhat is the course outline of Java Script?\\nWhat is the course outline of React JS?\\nWhat is the course outline of Java Script?\\nWhat is the course outline of React JS?\\nWhat is the course outline of Java Script?\\nWhen was Simbolo founded?\\nWhat does Simbolo mean?\\nWhen was Simbolo founded?\\nWhat does Simbolo mean?\\nWhen was Simbolo founded?\\nWhat does Simbolo mean?\\nWhat is the course outline of Oracle Database Foundation?\\nWhat is the course outline of Applied Machine Learning?\\nBecause of the earthquake that was happened in March 29.\\nBecause of the earthquake that was happened in March 29.\\nBecause of the earthquake that was happened in March 29.\\nSimbolo is located at 91H*42H, Mahar Aung Myay, Mandalay. Let me know if you need directions!\\nSimbolo is located at 91H*42H, Mahar Aung Myay, Mandalay. Let me know if you need directions!\\nSimbolo is located at 91H*42H, Mahar Aung Myay, Mandalay. Let me know if you need directions!\\nSímbolo is a training school which provides high-quality education in science and technology by offering courses in Artificial Intelligence, Data Science, Web Development, Mobile Development, and Information Technology. These courses combine theoretical knowledge with practical, project-based learning.\\nSímbolo is a training school which provides high-quality education in science and technology by offering courses in Artificial Intelligence, Data Science, Web Development, Mobile Development, and Information Technology. These courses combine theoretical knowledge with practical, project-based learning.\\nSímbolo is a training school which provides high-quality education in science and technology by offering courses in Artificial Intelligence, Data Science, Web Development, Mobile Development, and Information Technology. These courses combine theoretical knowledge with practical, project-based learning.\\nMembership Card, Jump Start Internship Program, Letter of Recommendation, Competition Mentorship, Pocket Money Program for Symbols\\nMembership Card, Jump Start Internship Program, Letter of Recommendation, Competition Mentorship, Pocket Money Program for Symbols\\nMembership Card, Jump Start Internship Program, Letter of Recommendation, Competition Mentorship, Pocket Money Program for Symbols\\nYou can contact Simbolo in the following ways:\\nEmail: simboloit@gmail.com\\nPhone: +959951716847\\nMessenger: https://m.me/Simboloit\\nYou can contact Simbolo in the following ways:\\nEmail: simboloit@gmail.com\\nPhone: +959951716847\\nMessenger: https://m.me/Simboloit\\nYou can contact Simbolo in the following ways:\\nEmail: simboloit@gmail.com\\nPhone: +959951716847\\nMessenger: https://m.me/Simboloit\\nHere is the course outline of Python class:\\n- Introduction to Python Language\\n- Values and Variables\\n- Expressions and Arithmetic\\n- Conditional Execution\\n- Iteration Loops\\n- Function\\n- Libraries\\n- Data Structures\\n- File Handling\\n- Regular Expression\\n- Object Oriented Programming (OOP)\\nHere is the course outline of UXUI class:\\nUX\\n- Introduction to UX UI design\\n- Product development life cycle\\n- Design thinking process\\n- Designer roles and responsibilities \\n- UX design principle\\n- UX research methodologies\\n- User persona \\n- Information Architecture\\n\\nUI\\n- Get in touch with design tools\\n- Brain storming in figjam and miro\\n- UI design principles\\n- Wireframing in Figma \\n- Create components and interaction components\\n- Create local library for effective design\\n- Highfidelity Design (Mobile and Web)\\n- Iterating and Usability Testing\\n\\nFinal project and Design presentation included.\\nHere is the course outline of Python class:\\n- Introduction to Python Language\\n- Values and Variables\\n- Expressions and Arithmetic\\n- Conditional Execution\\n- Iteration Loops\\n- Function\\n- Libraries\\n- Data Structures\\n- File Handling\\n- Regular Expression\\n- Object Oriented Programming (OOP)\\nHere is the course outline of UXUI class:\\nUX\\n- Introduction to UX UI design\\n- Product development life cycle\\n- Design thinking process\\n- Designer roles and responsibilities \\n- UX design principle\\n- UX research methodologies\\n- User persona \\n- Information Architecture\\n\\nUI\\n- Get in touch with design tools\\n- Brain storming in figjam and miro\\n- UI design principles\\n- Wireframing in Figma \\n- Create components and interaction components\\n- Create local library for effective design\\n- Highfidelity Design (Mobile and Web)\\n- Iterating and Usability Testing\\n\\nFinal project and Design presentation included.\\nHere is the course outline of Python class:\\n- Introduction to Python Language\\n- Values and Variables\\n- Expressions and Arithmetic\\n- Conditional Execution\\n- Iteration Loops\\n- Function\\n- Libraries\\n- Data Structures\\n- File Handling\\n- Regular Expression\\n- Object Oriented Programming (OOP)\\nHere is the course outline of UXUI class:\\nUX\\n- Introduction to UX UI design\\n- Product development life cycle\\n- Design thinking process\\n- Designer roles and responsibilities \\n- UX design principle\\n- UX research methodologies\\n- User persona \\n- Information Architecture\\n\\nUI\\n- Get in touch with design tools\\n- Brain storming in figjam and miro\\n- UI design principles\\n- Wireframing in Figma \\n- Create components and interaction components\\n- Create local library for effective design\\n- Highfidelity Design (Mobile and Web)\\n- Iterating and Usability Testing\\n\\nFinal project and Design presentation included.\\nHere is the course outline for React JS:\\n- Introduction to React\\n- React Components and props\\n- React Hooks\\n- API Calling with Axios in React \\n- Custom Hook\\n- React router dom\\n- Useful and Popolar UI Libraries for React \\n- Form handling with react hook form\\n- Redux \\n- React-redux\\nHere is the course outline for Java Script: \\n1. Introduction to JavaScript \\n-Course Overview and Setup\\n-JavaScript Basics\\n-Data Types and Variables\\n2. Control Structures and Functions\\n3. Objects and Arrays\\n4. Advanced JavaScript Concepts\\n-Asynchronous JavaScript\\n-Error Handling\\n\\n5. Working with the DOM\\n-Document Object Model (DOM)\\n-Event Handling\\n\\n6. Browser APIs and AJAX\\n\\n7. Modern JavaScript and ES6\\n-ES6 Features\\n\\nHere is the course outline for React JS:\\n- Introduction to React\\n- React Components and props\\n- React Hooks\\n- API Calling with Axios in React \\n- Custom Hook\\n- React router dom\\n- Useful and Popolar UI Libraries for React \\n- Form handling with react hook form\\n- Redux \\n- React-redux\\nHere is the course outline for Java Script: \\n1. Introduction to JavaScript \\n-Course Overview and Setup\\n-JavaScript Basics\\n-Data Types and Variables\\n2. Control Structures and Functions\\n3. Objects and Arrays\\n4. Advanced JavaScript Concepts\\n-Asynchronous JavaScript\\n-Error Handling\\n\\n5. Working with the DOM\\n-Document Object Model (DOM)\\n-Event Handling\\n\\n6. Browser APIs and AJAX\\n\\n7. Modern JavaScript and ES6\\n-ES6 Features\\n\\nHere is the course outline for React JS:\\n- Introduction to React\\n- React Components and props\\n- React Hooks\\n- API Calling with Axios in React \\n- Custom Hook\\n- React router dom\\n- Useful and Popolar UI Libraries for React \\n- Form handling with react hook form\\n- Redux \\n- React-redux\\nHere is the course outline for Java Script: \\n1. Introduction to JavaScript \\n-Course Overview and Setup\\n-JavaScript Basics\\n-Data Types and Variables\\n2. Control Structures and Functions\\n3. Objects and Arrays\\n4. Advanced JavaScript Concepts\\n-Asynchronous JavaScript\\n-Error Handling\\n\\n5. Working with the DOM\\n-Document Object Model (DOM)\\n-Event Handling\\n\\n6. Browser APIs and AJAX\\n\\n7. Modern JavaScript and ES6\\n-ES6 Features\\n\\nSímbolo was founded in 6th May, 2021.\\nSímbolo is pronounced in Spanish which means symbol.\\nSímbolo was founded in 6th May, 2021.\\nSímbolo is pronounced in Spanish which means symbol.\\nSímbolo was founded in 6th May, 2021.\\nSímbolo is pronounced in Spanish which means symbol.\\nHere is the course outline of Oracle Database Foundation class:\\n- Introduction \\n- Database Management Fundamental\\n- Oracle Database Architecture\\n- Oracle Database Features\\n- Oracle Relational Database Structure\\n- Step by step Oracle database development\\n- Oracle SQL\\n- PL/SQL with Oracle SQL Developer\\n- Package\\n- Managing the Oracle Database Instance\\n- Reporting\\nHere is the course outline of Applied Machine Learning class:\\n- Introduction to Machine Learning\\n- Pre-requisites and Introduction to Pandas\\n- Linear Regression\\n- Logistic Regression\\n- Decision Tree and Random Forest\\n- Naive Bayes and Support Vector Machine\\n- Regularization and Evaluation Metrics\\n- K-Means Algorithm and Dimensionality Reduction\\n- Introduction to Deep Learning\\n\\nWhen a user asks a question, provide the most accurate answer based on the knowledge base above.\\n\\nIf the question cannot be answered from the knowledge base, reply: \"I\\'m sorry, I do not have enough information to answer that question.\"\\n'"
      ]
     },
     "execution_count": 8,
     "metadata": {},
     "output_type": "execute_result"
    }
   ],
   "source": [
    "prompt_template = [{\n",
    "    \"question\": [item['Questions'] for item in template_for_prompt],\n",
    "    \"answer\": [item['Answers'] for item in template_for_prompt]\n",
    "}]\n",
    "\n",
    "prompt_template_for_llm = \"\"\"\n",
    "You are a helpful assistant trained to answer questions about Simbolo, a training school.\n",
    "\n",
    "You have access to the following knowledge base of Questions and Answers:\n",
    "\n",
    "{question}\n",
    "{answer}\n",
    "\n",
    "When a user asks a question, provide the most accurate answer based on the knowledge base above.\n",
    "\n",
    "If the question cannot be answered from the knowledge base, reply: \"I'm sorry, I do not have enough information to answer that question.\"\n",
    "\"\"\"\n",
    "\n",
    "questions_text = \"\\n\".join(prompt_template[0]['question'])\n",
    "answers_text = \"\\n\".join(prompt_template[0]['answer'])\n",
    "\n",
    "final_prompt = prompt_template_for_llm.format(\n",
    "    question=questions_text,\n",
    "    answer=answers_text\n",
    ")\n",
    "\n",
    "final_prompt"
   ]
  },
  {
   "cell_type": "code",
   "execution_count": 9,
   "id": "b28ddc38",
   "metadata": {},
   "outputs": [
    {
     "name": "stdout",
     "output_type": "stream",
     "text": [
      "The founder of Simbolo is Phyo Thu Htet.\n"
     ]
    }
   ],
   "source": [
    "from groq import Groq\n",
    "\n",
    "model = Groq(\n",
    "    api_key=os.getenv(\"GROQ_API_KEY\"),\n",
    ")\n",
    "\n",
    "chat_completion = model.chat.completions.create(\n",
    "    messages=[\n",
    "        {\n",
    "            \"role\": \"system\",\n",
    "            \"content\": final_prompt\n",
    "        },\n",
    "        {\n",
    "            \"role\": \"user\",\n",
    "            \"content\": user_input,\n",
    "        }\n",
    "    ],\n",
    "    model=\"llama-3.3-70b-versatile\",\n",
    ")\n",
    "\n",
    "print(chat_completion.choices[0].message.content)"
   ]
  },
  {
   "cell_type": "code",
   "execution_count": null,
   "id": "59df5d93",
   "metadata": {},
   "outputs": [],
   "source": []
  }
 ],
 "metadata": {
  "kernelspec": {
   "display_name": "langchain",
   "language": "python",
   "name": "python3"
  },
  "language_info": {
   "codemirror_mode": {
    "name": "ipython",
    "version": 3
   },
   "file_extension": ".py",
   "mimetype": "text/x-python",
   "name": "python",
   "nbconvert_exporter": "python",
   "pygments_lexer": "ipython3",
   "version": "3.11.11"
  }
 },
 "nbformat": 4,
 "nbformat_minor": 5
}
